{
 "cells": [
  {
   "cell_type": "code",
   "execution_count": null,
   "metadata": {},
   "outputs": [],
   "source": [
    "import torch\n",
    "from mambapy.mamba import Mamba, MambaConfig\n",
    "\n",
    "config = MambaConfig(d_model=16, n_layers=2)\n",
    "model = Mamba(config)\n",
    "\n",
    "B, L, D = 2, 64, 16\n",
    "x = torch.randn(B, L, D)\n",
    "y = model(x)\n",
    "\n",
    "assert y.shape == x.shape"
   ]
  },
  {
   "cell_type": "code",
   "execution_count": null,
   "metadata": {},
   "outputs": [],
   "source": [
    "y.shape"
   ]
  },
  {
   "cell_type": "code",
   "execution_count": null,
   "metadata": {},
   "outputs": [],
   "source": [
    "device = torch.device('cuda' if torch.cuda.is_available() else 'cpu')\n",
    "\n",
    "sample = torch.randn(1, 1, 128,128,128).to(device)\n",
    "config = MambaConfig(\n",
    "    d_model=16,  # Model dimension\n",
    "    n_layers=2,  # Number of layers\n",
    ")\n",
    "\n",
    "# Initialize the Mamba model with the configuration\n",
    "model = Mamba(config).to(device)\n",
    "process_inp = sample.flatten(2, 4).transpose(1, 2)\n",
    "process_inp.shape\n",
    "\n",
    "\n",
    "res = model(process_inp)\n",
    "\n",
    "res.shape\n",
    "\n",
    "\n"
   ]
  },
  {
   "cell_type": "code",
   "execution_count": null,
   "metadata": {},
   "outputs": [],
   "source": [
    "from Experiment.ModelTrainer.UmambaModule.Umamba import UMambaEnc\n",
    "from torch import nn\n",
    "\n",
    "device = torch.device('cuda' if torch.cuda.is_available() else 'cpu')\n",
    "\n",
    "n_stages=6\n",
    "features_per_stage=(32, 64, 128, 256, 320, 320)\n",
    "conv_op=nn.Conv3d\n",
    "kernel_sizes=3\n",
    "strides=(1, 2, 2, 2, 2, 2)\n",
    "n_blocks_per_stage= (1, 3, 4, 6, 6, 6)\n",
    "n_conv_per_stage_decoder=(2, 2, 2, 2, 2)\n",
    "conv_bias=True\n",
    "norm_op=nn.InstanceNorm3d\n",
    "norm_op_kwargs={}\n",
    "nonlin=nn.LeakyReLU\n",
    "nonlin_kwargs={'inplace': True}\n",
    "deep_supervision=False\n",
    "input_size = (128, 128, 128)\n",
    "input_channels = 1\n",
    "num_classes = 3\n",
    "\n",
    "model = UMambaEnc(\n",
    "    input_size,\n",
    "    input_channels,\n",
    "    n_stages,\n",
    "    features_per_stage,\n",
    "    conv_op,\n",
    "    kernel_sizes,\n",
    "    strides,\n",
    "    n_blocks_per_stage,\n",
    "    num_classes,\n",
    "    n_conv_per_stage_decoder,\n",
    "    conv_bias,\n",
    "    norm_op,\n",
    "    norm_op_kwargs,\n",
    "    nonlin,\n",
    "    nonlin_kwargs,\n",
    "    deep_supervision,\n",
    ")\n",
    "x = torch.rand((1, 1, 128, 128, 128))\n",
    "out = model(x)\n",
    "print(out.shape)"
   ]
  }
 ],
 "metadata": {
  "kernelspec": {
   "display_name": "venv",
   "language": "python",
   "name": "python3"
  },
  "language_info": {
   "codemirror_mode": {
    "name": "ipython",
    "version": 3
   },
   "file_extension": ".py",
   "mimetype": "text/x-python",
   "name": "python",
   "nbconvert_exporter": "python",
   "pygments_lexer": "ipython3",
   "version": "3.10.11"
  }
 },
 "nbformat": 4,
 "nbformat_minor": 2
}
