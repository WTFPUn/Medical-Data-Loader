{
 "cells": [
  {
   "cell_type": "code",
   "execution_count": null,
   "metadata": {},
   "outputs": [],
   "source": [
    "import nibabel as nib\n",
    "import matplotlib.pyplot as plt"
   ]
  },
  {
   "cell_type": "code",
   "execution_count": null,
   "metadata": {},
   "outputs": [],
   "source": [
    "import SimpleITK as sitk\n",
    "\n",
    "img = sitk.ReadImage(\"dataset/data/img0001.nii.gz\")\n",
    "\n",
    "img = sitk.GetArrayFromImage(img)\n"
   ]
  },
  {
   "cell_type": "code",
   "execution_count": null,
   "metadata": {},
   "outputs": [],
   "source": [
    "plt.imshow(img[150], cmap='gray')"
   ]
  },
  {
   "cell_type": "code",
   "execution_count": null,
   "metadata": {},
   "outputs": [],
   "source": [
    "img_mask = sitk.GetArrayFromImage(sitk.ReadImage(\"dataset/label/label0001.nii.gz\"))\n",
    "\n",
    "plt.imshow(img_mask[150], cmap='gray')\n",
    "\n",
    "\n"
   ]
  },
  {
   "cell_type": "code",
   "execution_count": null,
   "metadata": {},
   "outputs": [],
   "source": [
    "img.min(), img.max()"
   ]
  },
  {
   "cell_type": "code",
   "execution_count": null,
   "metadata": {},
   "outputs": [],
   "source": [
    "img2 = sitk.ReadImage(\"dataset/data/img0002.nii.gz\")\n",
    "img2 = sitk.GetArrayFromImage(img2)\n",
    "\n",
    "plt.imshow(img2[150], cmap='gray')"
   ]
  },
  {
   "cell_type": "code",
   "execution_count": null,
   "metadata": {},
   "outputs": [],
   "source": [
    "img_mask2 = sitk.GetArrayFromImage(sitk.ReadImage(\"dataset/label/label0002.nii.gz\"))\n",
    "\n",
    "plt.imshow(img_mask2[150], cmap='gray')"
   ]
  },
  {
   "cell_type": "code",
   "execution_count": null,
   "metadata": {},
   "outputs": [],
   "source": [
    "def windowing(img, window_center, window_width):\n",
    "    img_min = window_center - window_width // 2\n",
    "    img_max = window_center + window_width // 2\n",
    "    img[img < img_min] = img_min\n",
    "    img[img > img_max] = img_max\n",
    "    return img"
   ]
  },
  {
   "cell_type": "code",
   "execution_count": null,
   "metadata": {},
   "outputs": [],
   "source": [
    "center = 400\n",
    "width = 500\n",
    "\n",
    "img_wind = windowing(img.copy(), center, width)\n",
    "img2_wind = windowing(img2.copy(), center, width)\n",
    "\n",
    "# subplot 4 images\n",
    "plt.figure(figsize=(10, 10))\n",
    "plt.subplot(231)\n",
    "plt.imshow(img[150], cmap='gray')\n",
    "plt.title('Original Image 1')\n",
    "plt.subplot(232)\n",
    "plt.imshow(img_wind[150], cmap='gray')\n",
    "plt.title('Windowed Image 1')\n",
    "plt.subplot(233)\n",
    "plt.imshow(img_mask[150], cmap='gray')\n",
    "plt.title('Mask Image 1')\n",
    "plt.subplot(234)\n",
    "plt.imshow(img2[150], cmap='gray')\n",
    "plt.title('Original Image 2')\n",
    "plt.subplot(235)\n",
    "plt.imshow(img2_wind[150], cmap='gray')\n",
    "plt.title('Windowed Image 2')\n",
    "plt.subplot(236)\n",
    "plt.imshow(img_mask2[150], cmap='gray')\n",
    "plt.title('Mask Image 2')\n",
    "\n",
    "plt.show()"
   ]
  },
  {
   "cell_type": "code",
   "execution_count": null,
   "metadata": {},
   "outputs": [],
   "source": [
    "img2.min(), img2.max()"
   ]
  },
  {
   "cell_type": "code",
   "execution_count": null,
   "metadata": {},
   "outputs": [],
   "source": [
    "nii.get_fdata().min(), nii.get_fdata().max()"
   ]
  },
  {
   "cell_type": "code",
   "execution_count": null,
   "metadata": {},
   "outputs": [],
   "source": [
    "nii_labeled = nib.load(\"dataset/label/label0001.nii\")\n",
    "img_labeled = nii_labeled.get_fdata()\n"
   ]
  },
  {
   "cell_type": "code",
   "execution_count": null,
   "metadata": {},
   "outputs": [],
   "source": [
    "# normalize the image\n",
    "\n",
    "img = (img - img.min()) / (img.max() - img.min())\n",
    "\n",
    "fig, axes = plt.subplots(20, 5, figsize=(32,32))\n",
    "for i, ax in enumerate(axes.reshape(-1)):\n",
    "    ax.imshow(img[:,:,1 + i], cmap='gray')"
   ]
  },
  {
   "cell_type": "code",
   "execution_count": null,
   "metadata": {},
   "outputs": [],
   "source": [
    "# check null values\n",
    "import numpy as np\n",
    "\n",
    "# stack to 3D\n",
    "img = np.stack([img]*3, axis=-1)"
   ]
  },
  {
   "cell_type": "code",
   "execution_count": null,
   "metadata": {},
   "outputs": [],
   "source": [
    "img.shape"
   ]
  },
  {
   "cell_type": "code",
   "execution_count": null,
   "metadata": {},
   "outputs": [],
   "source": [
    "import numpy as np\n",
    "import cv2\n",
    "\n",
    "\n",
    "out = cv2.VideoWriter('project1d.avi',cv2.VideoWriter_fourcc(*'DIVX'), 15, (img.shape[1], img.shape[0]))\n",
    "\n",
    "for i in range(img.shape[2]):\n",
    "    out.write((img[:,:,i]*255).astype(np.uint8))\n",
    "out.release()\n"
   ]
  },
  {
   "cell_type": "code",
   "execution_count": null,
   "metadata": {},
   "outputs": [],
   "source": [
    "img_labeled.shape"
   ]
  },
  {
   "cell_type": "code",
   "execution_count": null,
   "metadata": {},
   "outputs": [],
   "source": [
    "plt.imshow(img_labeled[:,:,308], cmap='gray')"
   ]
  },
  {
   "cell_type": "code",
   "execution_count": null,
   "metadata": {},
   "outputs": [],
   "source": [
    "# count the number of unique values\n",
    "np.unique(img_labeled[:,:,308], return_counts=True)"
   ]
  },
  {
   "cell_type": "code",
   "execution_count": null,
   "metadata": {},
   "outputs": [],
   "source": [
    "# filter pixel that is 1.0 only\n",
    "filtered = img_labeled[:,:,308] == 2.0\n",
    "\n",
    "plt.imshow(filtered, cmap='gray')"
   ]
  },
  {
   "cell_type": "code",
   "execution_count": null,
   "metadata": {},
   "outputs": [],
   "source": [
    "img_labeled[:,:,308].min(), img_labeled[:,:,308].max()"
   ]
  },
  {
   "cell_type": "code",
   "execution_count": null,
   "metadata": {},
   "outputs": [],
   "source": [
    "import os\n",
    "\n",
    "def convert_avi_to_mp4(avi_file_path, output_name):\n",
    "    os.popen(\"ffmpeg -i '{input}' -ac 2 -b:v 2000k -c:a aac -c:v libx264 -b:a 160k -vprofile high -bf 0 -strict experimental -f mp4 '{output}.mp4'\".format(input = avi_file_path, output = output_name))\n",
    "    return True\n"
   ]
  },
  {
   "cell_type": "code",
   "execution_count": null,
   "metadata": {},
   "outputs": [],
   "source": [
    "convert_avi_to_mp4(\"compare.avi\", \"compare\")\n",
    "# convert_avi_to_mp4(\"project_labeled.avi\", \"project_labeled\")"
   ]
  },
  {
   "cell_type": "code",
   "execution_count": null,
   "metadata": {},
   "outputs": [],
   "source": [
    "def get_arrays_by_plot(arr1: np.ndarray, arr2: np.ndarray, title1: str = None, title2: str = None, main_title: str = None) -> np.ndarray:\n",
    "    \"\"\"\n",
    "    Display two arrays as images side by side in a plot.\n",
    "\n",
    "    Parameters:\n",
    "    arr1 (ndarray): The first array to be displayed as an image.\n",
    "    arr2 (ndarray): The second array to be displayed as an image.\n",
    "    title1 (str, optional): The title for the first image. Defaults to None.\n",
    "    title2 (str, optional): The title for the second image. Defaults to None.\n",
    "\n",
    "    Returns:\n",
    "    ndarray: The image of the plot as a NumPy array.\n",
    "    \"\"\"\n",
    "    fig, ax = plt.subplots(1, 2)\n",
    "    \n",
    "    if main_title:\n",
    "        fig.suptitle(main_title)\n",
    "\n",
    "    \n",
    "    ax[0].imshow(arr1, cmap='gray')\n",
    "    ax[1].imshow(arr2, cmap='gray')\n",
    "      \n",
    "    if title1:\n",
    "        ax[0].set_title(title1)\n",
    "    if title2:\n",
    "        ax[1].set_title(title2)\n",
    "        \n",
    "    fig.canvas.draw_idle()\n",
    "        \n",
    "    buf = fig.canvas.buffer_rgba()\n",
    "    img = np.frombuffer(buf, np.uint8).reshape((buf.shape[0], buf.shape[1], 4))\n",
    "    \n",
    "    img = cv2.cvtColor(img, cv2.COLOR_RGBA2RGB)\n",
    "    \n",
    "    return img"
   ]
  },
  {
   "cell_type": "code",
   "execution_count": null,
   "metadata": {},
   "outputs": [],
   "source": [
    "import time"
   ]
  },
  {
   "cell_type": "code",
   "execution_count": null,
   "metadata": {},
   "outputs": [],
   "source": [
    "\n",
    "start = time.process_time()\n",
    "to_vid_array = np.array([get_arrays_by_plot(img[:,:,i], img_labeled[:,:,i], \"Image\", \"Label\", f\"Image and Label of Slice {i}\") for i in range(img.shape[2])])\n",
    "end = time.process_time()\n",
    "\n",
    "print(f\"Time taken to create the video array: {end - start} seconds\")"
   ]
  },
  {
   "cell_type": "code",
   "execution_count": null,
   "metadata": {},
   "outputs": [],
   "source": [
    "to_vid_array.shape"
   ]
  },
  {
   "cell_type": "code",
   "execution_count": null,
   "metadata": {},
   "outputs": [],
   "source": [
    "to_vid_array[0].shape"
   ]
  },
  {
   "cell_type": "code",
   "execution_count": null,
   "metadata": {},
   "outputs": [],
   "source": [
    "plt.imshow(to_vid_array[150])"
   ]
  },
  {
   "cell_type": "code",
   "execution_count": null,
   "metadata": {},
   "outputs": [],
   "source": [
    "out = cv2.VideoWriter('compare.avi',cv2.VideoWriter_fourcc(*'DIVX'), 15, (to_vid_array[0].shape[1], to_vid_array[0].shape[0]))\n",
    "\n",
    "for i in range(len(to_vid_array)):\n",
    "    out.write(to_vid_array[i])\n",
    "    \n",
    "out.release()\n"
   ]
  },
  {
   "cell_type": "code",
   "execution_count": null,
   "metadata": {},
   "outputs": [],
   "source": []
  }
 ],
 "metadata": {
  "kernelspec": {
   "display_name": "venv",
   "language": "python",
   "name": "python3"
  },
  "language_info": {
   "codemirror_mode": {
    "name": "ipython",
    "version": 3
   },
   "file_extension": ".py",
   "mimetype": "text/x-python",
   "name": "python",
   "nbconvert_exporter": "python",
   "pygments_lexer": "ipython3",
   "version": "3.10.11"
  }
 },
 "nbformat": 4,
 "nbformat_minor": 2
}
