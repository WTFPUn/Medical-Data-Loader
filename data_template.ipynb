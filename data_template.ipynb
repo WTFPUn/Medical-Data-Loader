{
 "cells": [
  {
   "cell_type": "code",
   "execution_count": null,
   "metadata": {},
   "outputs": [],
   "source": [
    "from DataEngine import DataEngine, DatasetConfig, RandomFlip3D\n",
    "import torch\n",
    "from torchvision import transforms\n",
    "from torchio import RandomFlip"
   ]
  },
  {
   "cell_type": "code",
   "execution_count": null,
   "metadata": {},
   "outputs": [],
   "source": [
    "torch.manual_seed(0)"
   ]
  },
  {
   "cell_type": "code",
   "execution_count": null,
   "metadata": {},
   "outputs": [],
   "source": [
    "datasetConfig = DatasetConfig(\n",
    "    window_center=400,\n",
    "    window_width=1000,\n",
    "    device=\"cuda\",\n",
    "    compose= {\n",
    "        \"train\": transforms.Compose([\n",
    "            # reshape to (1, -1, -1, -1)\n",
    "            # transforms.ToTensor(),\n",
    "            # transform ndarray to tensor\n",
    "            transforms.Lambda(lambda x: torch.tensor(x).unsqueeze(0)),\n",
    "            RandomFlip(axes=(\"LPR\"), p=.5),\n",
    "            transforms.Lambda(lambda x: x.squeeze(0)),\n",
    "        ]),\n",
    "    }\n",
    ")\n",
    "    \n",
    "    "
   ]
  },
  {
   "cell_type": "code",
   "execution_count": null,
   "metadata": {},
   "outputs": [],
   "source": [
    "meta_data_path = \"split.json\""
   ]
  },
  {
   "cell_type": "code",
   "execution_count": null,
   "metadata": {},
   "outputs": [],
   "source": [
    "dataEngine = DataEngine(meta_data_path, datasetConfig)"
   ]
  },
  {
   "cell_type": "code",
   "execution_count": null,
   "metadata": {},
   "outputs": [],
   "source": [
    "train_loader = dataEngine.get_dataloader(\"train\", batch_size=1, shuffle=True)\n",
    "test_loader = dataEngine.get_dataloader(\"test\", batch_size=1, shuffle=False)\n",
    "vaid_loader = dataEngine.get_dataloader(\"val\", batch_size=1, shuffle=False)"
   ]
  },
  {
   "cell_type": "code",
   "execution_count": null,
   "metadata": {},
   "outputs": [],
   "source": [
    "# test loader\n",
    "for idx, img, mask in test_loader:\n",
    "    print(idx, img.shape, mask.shape)\n",
    "    break"
   ]
  },
  {
   "cell_type": "code",
   "execution_count": null,
   "metadata": {},
   "outputs": [],
   "source": [
    "img.shape, mask.shape"
   ]
  },
  {
   "cell_type": "code",
   "execution_count": null,
   "metadata": {},
   "outputs": [],
   "source": [
    "import matplotlib.pyplot as plt\n",
    "\n",
    "# subplot 150th of image mask img_tr mask_tr\n",
    "plt.subplot(221)\n",
    "plt.imshow(img[0, :, :, 150].cpu().numpy(), cmap=\"gray\")\n",
    "plt.subplot(222)\n",
    "plt.imshow(mask[0, :, :, 150].cpu().numpy(), cmap=\"gray\")\n"
   ]
  },
  {
   "cell_type": "code",
   "execution_count": null,
   "metadata": {},
   "outputs": [],
   "source": []
  }
 ],
 "metadata": {
  "kernelspec": {
   "display_name": "venv",
   "language": "python",
   "name": "python3"
  },
  "language_info": {
   "codemirror_mode": {
    "name": "ipython",
    "version": 3
   },
   "file_extension": ".py",
   "mimetype": "text/x-python",
   "name": "python",
   "nbconvert_exporter": "python",
   "pygments_lexer": "ipython3",
   "version": "3.10.11"
  }
 },
 "nbformat": 4,
 "nbformat_minor": 2
}
